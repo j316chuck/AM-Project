{
 "cells": [
  {
   "cell_type": "code",
   "execution_count": 81,
   "metadata": {},
   "outputs": [],
   "source": [
    "from sklearn import datasets\n",
    "import random\n",
    "import numpy as np\n",
    "import sklearn\n",
    "import matplotlib.pyplot as plt\n",
    "from scipy.stats import multivariate_normal\n",
    "import itertools\n",
    "import time"
   ]
  },
  {
   "cell_type": "markdown",
   "metadata": {},
   "source": [
    "## Make Synthetic Dataset"
   ]
  },
  {
   "cell_type": "code",
   "execution_count": 115,
   "metadata": {},
   "outputs": [],
   "source": [
    "num_of_multivariate_gaussians = 15\n",
    "dimensions = 40\n",
    "means = [[np.random.random() for _ in range(dimensions)] for _ in range(num_of_multivariate_gaussians)]\n",
    "# can make it sparse \n",
    "# can make the means evenly distributed\n",
    "# can plot the dataset in 2d to make sure it will be evenly distributed\n",
    "# can plot the 1 dimensional dataset. \n",
    "covariances = [sklearn.datasets.make_spd_matrix(dimensions) for _ in range(num_of_multivariate_gaussians)]\n"
   ]
  },
  {
   "cell_type": "code",
   "execution_count": 116,
   "metadata": {},
   "outputs": [
    {
     "data": {
      "text/plain": [
       "1.139997187246679e-11"
      ]
     },
     "execution_count": 116,
     "metadata": {},
     "output_type": "execute_result"
    }
   ],
   "source": [
    "def f(x, multivariate_gaussians): \n",
    "    # maximize log probability, minimize negative log probability\n",
    "    return sum(mvg.pdf(x) for mvg in multivariate_gaussians)\n",
    "\n",
    "multivariate_gaussians = [multivariate_normal(mean, covar) for mean, covar in zip(means, covariances)]\n",
    "f([np.random.random() for _ in range(dimensions)], multivariate_gaussians)\n"
   ]
  },
  {
   "cell_type": "code",
   "execution_count": 117,
   "metadata": {},
   "outputs": [
    {
     "name": "stdout",
     "output_type": "stream",
     "text": [
      "100000/1048586 done in 70.57 seconds\n",
      "200000/1048586 done in 133.48 seconds\n",
      "300000/1048586 done in 194.68 seconds\n",
      "400000/1048586 done in 255.37 seconds\n",
      "500000/1048586 done in 323.33 seconds\n",
      "600000/1048586 done in 383.47 seconds\n",
      "700000/1048586 done in 443.45 seconds\n",
      "800000/1048586 done in 968.16 seconds\n",
      "900000/1048586 done in 1779.26 seconds\n",
      "1000000/1048586 done in 2123.01 seconds\n",
      "1048586\n",
      "1048576\n",
      "1048576\n"
     ]
    }
   ],
   "source": [
    "def one_hot_encode_sequence(iterable, alphabet=range(4)): \n",
    "    mp = {}\n",
    "    for i, x in enumerate(alphabet): \n",
    "        mp[x] = [0] * len(alphabet)\n",
    "        mp[x][i] = 1\n",
    "    result = []\n",
    "    for x in iterable: \n",
    "        result.extend(mp[x])\n",
    "    return result\n",
    "\n",
    "start_time = time.time()\n",
    "data_x, data_y = [], []\n",
    "count = 10\n",
    "for x in itertools.product(range(4), repeat=10): \n",
    "    seq = one_hot_encode_sequence(x)\n",
    "    y = f(seq, multivariate_gaussians)\n",
    "    if count % 100000 == 0: \n",
    "        print(\"{}/{} done in {:.2f} seconds\".format(count, 1048586, time.time() - start_time))\n",
    "    data_x.append(seq)\n",
    "    data_y.append(y)\n",
    "    count += 1\n",
    "print(count)\n",
    "print(len(data_x))\n",
    "print(len(data_y))"
   ]
  },
  {
   "cell_type": "code",
   "execution_count": 118,
   "metadata": {},
   "outputs": [],
   "source": [
    "np.save('../data/synthetic_{}_mixed_mvg_{}_dim_data_x.npy'.format(num_of_multivariate_gaussians, dimensions), data_x)\n",
    "np.save('../data/synthetic_{}_mixed_mvg_{}_dim_data_y.npy'.format(num_of_multivariate_gaussians, dimensions), data_y)\n",
    "np.save('../data/synthetic_{}_mixed_mvg_{}_dim_means.npy'.format(num_of_multivariate_gaussians, dimensions), np.array(means))\n",
    "np.save('../data/synthetic_{}_mixed_mvg_{}_dim_covariances.npy'.format(num_of_multivariate_gaussians,dimensions), np.array(covariances))"
   ]
  },
  {
   "cell_type": "markdown",
   "metadata": {},
   "source": [
    "# Load Data"
   ]
  },
  {
   "cell_type": "code",
   "execution_count": 149,
   "metadata": {},
   "outputs": [],
   "source": [
    "x_data = np.load('../data/synthetic_{}_mixed_mvg_{}_dim_data_x.npy'.format(num_of_multivariate_gaussians, dimensions))\n",
    "np.testing.assert_array_equal(x_data, data_x)\n",
    "y_data = np.load('../data/synthetic_{}_mixed_mvg_{}_dim_data_y.npy'.format(num_of_multivariate_gaussians, dimensions))\n",
    "np.testing.assert_array_equal(y_data, data_y)\n",
    "means_load = np.load('../data/synthetic_{}_mixed_mvg_{}_dim_means.npy'.format(num_of_multivariate_gaussians, dimensions))\n",
    "np.testing.assert_array_equal(means_load, means)\n",
    "covariances_load = np.load('../data/synthetic_{}_mixed_mvg_{}_dim_covariances.npy'.format(num_of_multivariate_gaussians,dimensions))\n",
    "np.testing.assert_array_equal(covariances_load, covariances)"
   ]
  },
  {
   "cell_type": "markdown",
   "metadata": {},
   "source": [
    "# Plot Data to make sure it's not weird"
   ]
  },
  {
   "cell_type": "code",
   "execution_count": 151,
   "metadata": {},
   "outputs": [],
   "source": [
    "y_data = (y_data - y_data.mean()) / y_data.std()"
   ]
  },
  {
   "cell_type": "code",
   "execution_count": 154,
   "metadata": {},
   "outputs": [
    {
     "name": "stdout",
     "output_type": "stream",
     "text": [
      "285.6925141210237 82490 [1 0 0 0 0 1 0 0 0 1 0 0 1 0 0 0 1 0 0 0 0 0 1 0 1 0 0 0 0 0 0 1 0 0 1 0 0\n",
      " 0 1 0]\n",
      "385.28441480063805 237618 [1 0 0 0 0 0 0 1 0 0 1 0 0 0 1 0 1 0 0 0 1 0 0 0 1 0 0 0 0 0 0 1 1 0 0 0 0\n",
      " 0 1 0]\n",
      "223.79358254758515 238130 [1 0 0 0 0 0 0 1 0 0 1 0 0 0 1 0 1 0 0 0 0 0 1 0 1 0 0 0 0 0 0 1 1 0 0 0 0\n",
      " 0 1 0]\n",
      "296.50430989322666 246330 [1 0 0 0 0 0 0 1 0 0 0 1 1 0 0 0 1 0 0 0 0 0 1 0 1 0 0 0 0 0 0 1 0 0 1 0 0\n",
      " 0 1 0]\n"
     ]
    }
   ],
   "source": [
    "reversed_lst = []\n",
    "for j, (i, x) in enumerate(zip(y_data, x_data)):\n",
    "    if i > 200:\n",
    "        print(i, j, x)\n",
    "        reversed_lst.append(j)\n",
    "reversed_lst.reverse()\n",
    "y_data_lst = y_data.tolist()\n",
    "x_data_lst = x_data.tolist()\n",
    "for x in reversed_lst: \n",
    "    y_data_lst.pop(x)\n",
    "    x_data_lst.pop(x)\n",
    "y_data = np.array(y_data_lst)\n",
    "x_data = np.array(x_data_lst)\n",
    "\n",
    "for j, (i, x) in enumerate(zip(y_data, x_data)):\n",
    "    if i > 200:\n",
    "        print(i, j, x)"
   ]
  },
  {
   "cell_type": "code",
   "execution_count": 143,
   "metadata": {},
   "outputs": [],
   "source": [
    "y_data = np.array(data_y)\n",
    "z = y_data.tolist()\n",
    "z.pop(237618)\n",
    "y_data = np.array(z)\n",
    "y_data = (y_data - y_data.mean()) / y_data.std()"
   ]
  },
  {
   "cell_type": "code",
   "execution_count": 155,
   "metadata": {},
   "outputs": [
    {
     "data": {
      "image/png": "[encoded data removed]",
      "text/plain": [
       "<Figure size 432x288 with 1 Axes>"
      ]
     },
     "metadata": {},
     "output_type": "display_data"
    }
   ],
   "source": [
    "plt.hist(y_data)\n",
    "plt.show()"
   ]
  },
  {
   "cell_type": "code",
   "execution_count": null,
   "metadata": {},
   "outputs": [],
   "source": [
    "normalize data and visualize. \n",
    "plt.hist(data_y)"
   ]
  },
  {
   "cell_type": "code",
   "execution_count": 120,
   "metadata": {},
   "outputs": [
    {
     "ename": "AttributeError",
     "evalue": "module 'matplotlib.pyplot' has no attribute 'tsne'",
     "output_type": "error",
     "traceback": [
      "\u001b[0;31m---------------------------------------------------------------------------\u001b[0m",
      "\u001b[0;31mAttributeError\u001b[0m                            Traceback (most recent call last)",
      "\u001b[0;32m<ipython-input-120-cda552ac8d2f>\u001b[0m in \u001b[0;36m<module>\u001b[0;34m()\u001b[0m\n\u001b[0;32m----> 1\u001b[0;31m \u001b[0mplt\u001b[0m\u001b[0;34m.\u001b[0m\u001b[0mtsne\u001b[0m\u001b[0;34m(\u001b[0m\u001b[0mdata_x\u001b[0m\u001b[0;34m)\u001b[0m\u001b[0;34m\u001b[0m\u001b[0;34m\u001b[0m\u001b[0m\n\u001b[0m",
      "\u001b[0;31mAttributeError\u001b[0m: module 'matplotlib.pyplot' has no attribute 'tsne'"
     ]
    }
   ],
   "source": [
    "plt.tsne(data_x)"
   ]
  },
  {
   "cell_type": "code",
   "execution_count": null,
   "metadata": {},
   "outputs": [],
   "source": [
    "plt.tsne(data_x)"
   ]
  }
 ],
 "metadata": {
  "kernelspec": {
   "display_name": "Python 3",
   "language": "python",
   "name": "python3"
  },
  "language_info": {
   "codemirror_mode": {
    "name": "ipython",
    "version": 3
   },
   "file_extension": ".py",
   "mimetype": "text/x-python",
   "name": "python",
   "nbconvert_exporter": "python",
   "pygments_lexer": "ipython3",
   "version": "3.6.8"
  }
 },
 "nbformat": 4,
 "nbformat_minor": 2
}

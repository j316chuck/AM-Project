{
 "cells": [
  {
   "cell_type": "code",
   "execution_count": 25,
   "metadata": {},
   "outputs": [
    {
     "name": "stdout",
     "output_type": "stream",
     "text": [
      "[-0.18656977 -0.10174587  0.86888616  0.75041164  0.52946532]\n",
      "Optimal value 0.8688875219365219\n",
      "Optimal var\n",
      "[-6.92274780e-07 -2.73989197e-07  1.00000113e+00  1.41141419e-06\n",
      " -1.57780258e-06]\n"
     ]
    }
   ],
   "source": [
    "import cvxpy as cp\n",
    "import numpy as np\n",
    "\n",
    "# Problem data.\n",
    "n = 5\n",
    "w = numpy.random.randn(n)\n",
    "#w = [-1, -1, -3, -2, -4]\n",
    "print(w)\n",
    "b = numpy.random.randn(1)\n",
    "# Construct the problem.\n",
    "x = cp.Variable(n)\n",
    "objective = cp.Maximize(w*x)\n",
    "ones = np.ones(n)\n",
    "constraints = [0 <= x, x <= 1, ones * x == 1]\n",
    "prob = cp.Problem(objective, constraints)\n",
    "\n",
    "print(\"Optimal value\", prob.solve())\n",
    "print(\"Optimal var\")\n",
    "print(x.value) # A numpy ndarray."
   ]
  },
  {
   "cell_type": "code",
   "execution_count": 31,
   "metadata": {},
   "outputs": [
    {
     "name": "stdout",
     "output_type": "stream",
     "text": [
      "[[12.49446123 -9.09185616  0.39584582 -3.63816679  2.00481704]\n",
      " [-9.09185616  9.0029176   0.84261434  2.57220296 -2.36951023]\n",
      " [ 0.39584582  0.84261434  2.54585543  0.86366923 -0.33223406]\n",
      " [-3.63816679  2.57220296  0.86366923  1.65482792 -0.96626539]\n",
      " [ 2.00481704 -2.36951023 -0.33223406 -0.96626539  3.24776411]]\n",
      "\n",
      "The optimal value is 0.07182714880177384\n",
      "A solution x is\n",
      "[2.40534147e-01 1.75665119e-01 9.52065511e-23 4.31506099e-01\n",
      " 1.52294635e-01]\n"
     ]
    }
   ],
   "source": [
    "n = 5\n",
    "np.random.seed(1)\n",
    "ones = np.ones(n)\n",
    "Q = np.random.randn(n, n)\n",
    "Q = Q.T @ Q\n",
    "print(Q)\n",
    "\n",
    "# Define and solve the CVXPY problem.\n",
    "x = cp.Variable(n)\n",
    "prob = cp.Problem(cp.Minimize((1/2)*cp.quad_form(x, Q)),\n",
    "                 [ones * x == 1, x >= 0])\n",
    "prob.solve()\n",
    "# Print result.\n",
    "print(\"\\nThe optimal value is\", prob.value)\n",
    "print(\"A solution x is\")\n",
    "print(x.value)\n"
   ]
  },
  {
   "cell_type": "code",
   "execution_count": 6,
   "metadata": {},
   "outputs": [
    {
     "data": {
      "text/plain": [
       "array([1., 1., 1., 1., 1.])"
      ]
     },
     "execution_count": 6,
     "metadata": {},
     "output_type": "execute_result"
    }
   ],
   "source": [
    "ones = np.ones(n)\n",
    "ones * x"
   ]
  },
  {
   "cell_type": "code",
   "execution_count": 7,
   "metadata": {},
   "outputs": [
    {
     "name": "stdout",
     "output_type": "stream",
     "text": [
      "status: optimal\n",
      "optimal value 1.0\n",
      "optimal var 1.0 1.570086213240983e-22\n"
     ]
    }
   ],
   "source": [
    "import cvxpy as cp\n",
    "\n",
    "# Create two scalar optimization variables.\n",
    "x = cp.Variable()\n",
    "y = cp.Variable()\n",
    "\n",
    "# Create two constraints.\n",
    "constraints = [x + y == 1,\n",
    "               x - y >= 1]\n",
    "\n",
    "# Form objective.\n",
    "obj = cp.Minimize((x - y)**2)\n",
    "\n",
    "# Form and solve problem.\n",
    "prob = cp.Problem(obj, constraints)\n",
    "prob.solve()  # Returns the optimal value.\n",
    "print(\"status:\", prob.status)\n",
    "print(\"optimal value\", prob.value)\n",
    "print(\"optimal var\", x.value, y.value)"
   ]
  },
  {
   "cell_type": "code",
   "execution_count": null,
   "metadata": {},
   "outputs": [],
   "source": []
  }
 ],
 "metadata": {
  "kernelspec": {
   "display_name": "Python 3",
   "language": "python",
   "name": "python3"
  },
  "language_info": {
   "codemirror_mode": {
    "name": "ipython",
    "version": 3
   },
   "file_extension": ".py",
   "mimetype": "text/x-python",
   "name": "python",
   "nbconvert_exporter": "python",
   "pygments_lexer": "ipython3",
   "version": "3.6.8"
  }
 },
 "nbformat": 4,
 "nbformat_minor": 2
}

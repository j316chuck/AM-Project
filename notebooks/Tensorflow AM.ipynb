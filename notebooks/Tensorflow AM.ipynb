{
 "cells": [
  {
   "cell_type": "code",
   "execution_count": 94,
   "metadata": {},
   "outputs": [],
   "source": [
    "import tensorflow as tf\n",
    "import matplotlib.pyplot as plt\n",
    "import os\n",
    "\n",
    "from tensorflow.keras.layers import Dense, Flatten, Conv2D, Activation\n",
    "from tensorflow.keras import Model\n",
    "from keras.datasets import mnist\n",
    "from __future__ import absolute_import, division, print_function, unicode_literals\n",
    "tf.keras.backend.set_floatx('float64')\n",
    "\n",
    "LOG_DIR = \"../saved_models/\"\n",
    "MODEL_NAME = \"10_1_19_mnist_am_weights\""
   ]
  },
  {
   "cell_type": "markdown",
   "metadata": {},
   "source": [
    "# Data"
   ]
  },
  {
   "cell_type": "code",
   "execution_count": 95,
   "metadata": {},
   "outputs": [],
   "source": [
    "(x_train, y_train), (x_test, y_test) = mnist.load_data()\n",
    "x_train, x_test = x_train / 255.0, x_test / 255.0\n",
    "x_train = x_train.reshape(-1, 784)\n",
    "x_test = x_test.reshape(-1, 784)\n",
    "train_ds = tf.data.Dataset.from_tensor_slices((x_train,y_train)).shuffle(10000).batch(32)\n",
    "test_ds = tf.data.Dataset.from_tensor_slices((x_test, y_test)).batch(32)"
   ]
  },
  {
   "cell_type": "markdown",
   "metadata": {},
   "source": [
    "# Model"
   ]
  },
  {
   "cell_type": "code",
   "execution_count": 105,
   "metadata": {
    "scrolled": true
   },
   "outputs": [],
   "source": [
    "class MyModel(Model):\n",
    "    def __init__(self):\n",
    "        super(MyModel, self).__init__()\n",
    "        self.d1 = Dense(200, name='d1')\n",
    "        self.r1 = Activation('relu', name = 'r1')\n",
    "        self.d2 = Dense(100, name='d2')\n",
    "        self.r2 = Activation('relu', name = 'r1')\n",
    "        self.d3 = Dense(10, name='d3')\n",
    "        self.s1 = Activation('softmax', name = 's1')\n",
    "\n",
    "    def call(self, x):\n",
    "        x = self.d1(x)\n",
    "        x = self.r1(x)\n",
    "        x = self.d2(x)\n",
    "        x = self.r2(x)\n",
    "        x = self.d3(x)\n",
    "        return self.s1(x)\n",
    "model = MyModel()"
   ]
  },
  {
   "cell_type": "markdown",
   "metadata": {},
   "source": [
    "# Loss"
   ]
  },
  {
   "cell_type": "code",
   "execution_count": 97,
   "metadata": {},
   "outputs": [],
   "source": [
    "loss_object = tf.keras.losses.SparseCategoricalCrossentropy()\n",
    "optimizer = tf.keras.optimizers.Adam()\n",
    "train_loss = tf.keras.metrics.Mean(name='train_loss')\n",
    "train_accuracy = tf.keras.metrics.SparseCategoricalAccuracy(name='train_accuracy')\n",
    "\n",
    "test_loss = tf.keras.metrics.Mean(name='test_loss')\n",
    "test_accuracy = tf.keras.metrics.SparseCategoricalAccuracy(name='test_accuracy')"
   ]
  },
  {
   "cell_type": "markdown",
   "metadata": {},
   "source": [
    "# Train"
   ]
  },
  {
   "cell_type": "code",
   "execution_count": 106,
   "metadata": {},
   "outputs": [],
   "source": [
    "# define own function\n",
    "@tf.function\n",
    "def train_step(model,images, labels):\n",
    "    with tf.GradientTape() as tape:\n",
    "        predictions = model(images)\n",
    "        loss = loss_object(labels, predictions)\n",
    "    gradients = tape.gradient(loss, model.trainable_variables)\n",
    "    optimizer.apply_gradients(zip(gradients, model.trainable_variables))\n",
    "    train_loss(loss)\n",
    "    train_accuracy(labels, predictions)\n",
    "    \n",
    "@tf.function\n",
    "def test_step(model, images, labels):\n",
    "    predictions = model(images)\n",
    "    t_loss = loss_object(labels, predictions)\n",
    "    test_loss(t_loss)\n",
    "    test_accuracy(labels, predictions)\n",
    "    \n",
    "def train(model, train_ds, test_ds, EPOCHS=10): \n",
    "    for epoch in range(EPOCHS):\n",
    "        for images, labels in train_ds:\n",
    "            train_step(model, images, labels)\n",
    "\n",
    "        for test_images, test_labels in test_ds:\n",
    "            test_step(model, test_images, test_labels)\n",
    "        \n",
    "        template = 'Epoch {}, Loss: {}, Accuracy: {}%, Test Loss: {}, Test Accuracy: {}%'\n",
    "        print(template.format(epoch+1,\n",
    "                            train_loss.result().numpy(),\n",
    "                            train_accuracy.result().numpy()*100,\n",
    "                            test_loss.result().numpy(),\n",
    "                            test_accuracy.result().numpy()*100))\n",
    "        \n",
    "            \n",
    "        \n",
    "        # Reset the metrics for the next epoch\n",
    "        train_loss.reset_states()\n",
    "        train_accuracy.reset_states()\n",
    "        test_loss.reset_states()\n",
    "        test_accuracy.reset_states()\n",
    "            \n",
    "    \n",
    "def evaluate(model, test_ds):\n",
    "    for test_images, test_labels in test_ds:\n",
    "        test_step(model, test_images, test_labels)\n",
    "    loss = test_loss.result().numpy()\n",
    "    accuracy = test_accuracy.result().numpy() * 100\n",
    "    test_loss.reset_states()\n",
    "    test_accuracy.reset_states()\n",
    "    return loss, accuracy\n"
   ]
  },
  {
   "cell_type": "code",
   "execution_count": 103,
   "metadata": {},
   "outputs": [],
   "source": [
    "## redo model with early stopping"
   ]
  },
  {
   "cell_type": "code",
   "execution_count": 107,
   "metadata": {},
   "outputs": [
    {
     "name": "stdout",
     "output_type": "stream",
     "text": [
      "Epoch 1, Loss: 0.08821232194641548, Accuracy: 97.33833333333334%, Test Loss: 0.09772774874185845, Test Accuracy: 96.87%\n",
      "Epoch 2, Loss: 0.07506161398005982, Accuracy: 97.64166666666667%, Test Loss: 0.0994399381377156, Test Accuracy: 96.69%\n",
      "Epoch 3, Loss: 0.05161230247200777, Accuracy: 98.335%, Test Loss: 0.0885415022874109, Test Accuracy: 97.45%\n",
      "Epoch 4, Loss: 0.038096742763832056, Accuracy: 98.72833333333332%, Test Loss: 0.0797294932464412, Test Accuracy: 97.82%\n",
      "Epoch 5, Loss: 0.02928351877636742, Accuracy: 99.03666666666666%, Test Loss: 0.08665953248407478, Test Accuracy: 97.71%\n",
      "Epoch 6, Loss: 0.024291771268929976, Accuracy: 99.195%, Test Loss: 0.08844355593557263, Test Accuracy: 97.99%\n",
      "Epoch 7, Loss: 0.02190714556252836, Accuracy: 99.23833333333333%, Test Loss: 0.09146268027043566, Test Accuracy: 97.8%\n",
      "Epoch 8, Loss: 0.01766419904843448, Accuracy: 99.40833333333333%, Test Loss: 0.09335705906790304, Test Accuracy: 98.02%\n",
      "Epoch 9, Loss: 0.015504009059315165, Accuracy: 99.46166666666667%, Test Loss: 0.09291585257213188, Test Accuracy: 97.98%\n",
      "Epoch 10, Loss: 0.013298281228266092, Accuracy: 99.55333333333334%, Test Loss: 0.10143497649853728, Test Accuracy: 97.92999999999999%\n",
      "Epoch 11, Loss: 0.014349267494787758, Accuracy: 99.51833333333333%, Test Loss: 0.11215646066609967, Test Accuracy: 97.94%\n",
      "Epoch 12, Loss: 0.011671892395707982, Accuracy: 99.605%, Test Loss: 0.11284846565593822, Test Accuracy: 97.68%\n",
      "Epoch 13, Loss: 0.011838884713737586, Accuracy: 99.60166666666666%, Test Loss: 0.10555067537652157, Test Accuracy: 97.94%\n",
      "Epoch 14, Loss: 0.010753331990674814, Accuracy: 99.68%, Test Loss: 0.10540196781292112, Test Accuracy: 98.02%\n",
      "Epoch 15, Loss: 0.01069716841157718, Accuracy: 99.65166666666667%, Test Loss: 0.12109246058928996, Test Accuracy: 97.69%\n",
      "Epoch 16, Loss: 0.010052796158490931, Accuracy: 99.67333333333333%, Test Loss: 0.11973459002515188, Test Accuracy: 97.98%\n",
      "Epoch 17, Loss: 0.01069526226307614, Accuracy: 99.68%, Test Loss: 0.1210399765544816, Test Accuracy: 98.02%\n",
      "Epoch 18, Loss: 0.00859049609990368, Accuracy: 99.73333333333333%, Test Loss: 0.13017386866926672, Test Accuracy: 98.02%\n",
      "Epoch 19, Loss: 0.008725567923447322, Accuracy: 99.70333333333333%, Test Loss: 0.12325897623247141, Test Accuracy: 98.11%\n",
      "Epoch 20, Loss: 0.00804061596968119, Accuracy: 99.75%, Test Loss: 0.1256575028316801, Test Accuracy: 97.83%\n"
     ]
    },
    {
     "data": {
      "text/plain": [
       "(0.1256575028316801, 97.83)"
      ]
     },
     "execution_count": 107,
     "metadata": {},
     "output_type": "execute_result"
    }
   ],
   "source": [
    "train(model, train_ds, test_ds, EPOCHS = 20)\n",
    "evaluate(model, test_ds)"
   ]
  },
  {
   "cell_type": "markdown",
   "metadata": {},
   "source": [
    "# Save Model"
   ]
  },
  {
   "cell_type": "code",
   "execution_count": 37,
   "metadata": {},
   "outputs": [],
   "source": [
    "model.save_weights(os.path.join(LOG_DIR, MODEL_NAME))"
   ]
  },
  {
   "cell_type": "markdown",
   "metadata": {},
   "source": [
    "# Load Model"
   ]
  },
  {
   "cell_type": "code",
   "execution_count": 42,
   "metadata": {},
   "outputs": [
    {
     "data": {
      "text/plain": [
       "<tensorflow.python.training.tracking.util.CheckpointLoadStatus at 0x156249470>"
      ]
     },
     "execution_count": 42,
     "metadata": {},
     "output_type": "execute_result"
    }
   ],
   "source": [
    "# to do fix this section\n",
    "x = MyModel()\n",
    "x.load_weights(os.path.join(LOG_DIR, MODEL_NAME))\n",
    "evaluate(x, test_ds) # should be around 98% accuracy"
   ]
  },
  {
   "cell_type": "markdown",
   "metadata": {},
   "source": [
    "# Freeze Model"
   ]
  },
  {
   "cell_type": "code",
   "execution_count": 9,
   "metadata": {},
   "outputs": [],
   "source": [
    "#model.trainable=True"
   ]
  },
  {
   "cell_type": "code",
   "execution_count": 120,
   "metadata": {},
   "outputs": [],
   "source": [
    "model.trainable=False\n",
    "assert(model.trainable_weights == [])\n"
   ]
  },
  {
   "cell_type": "markdown",
   "metadata": {},
   "source": [
    "#  AM"
   ]
  },
  {
   "cell_type": "code",
   "execution_count": 130,
   "metadata": {},
   "outputs": [],
   "source": [
    "def feed_through_k_layer(model, inp, k): \n",
    "    assert(k < len(model.layers))\n",
    "    x = inp\n",
    "    for layer in model.layers[:k]: \n",
    "        x = layer(x)\n",
    "    return x"
   ]
  },
  {
   "cell_type": "code",
   "execution_count": 165,
   "metadata": {},
   "outputs": [
    {
     "name": "stdout",
     "output_type": "stream",
     "text": [
      "tf.Tensor(\n",
      "[[ -63.90196807  -31.61674039  -45.11394224   56.60442069  -86.79056615\n",
      "    -9.44496372 -103.95293315   -3.92797369  -63.59262351   13.5497572 ]], shape=(1, 10), dtype=float64)\n",
      "[6.08858106]\n"
     ]
    },
    {
     "data": {
      "image/png": "[encoded data removed]",
      "text/plain": [
       "<Figure size 288x288 with 1 Axes>"
      ]
     },
     "metadata": {},
     "output_type": "display_data"
    },
    {
     "name": "stdout",
     "output_type": "stream",
     "text": [
      "tf.Tensor(\n",
      "[[-320.74178828 -442.46515802 -342.00325104 -192.91324366 -159.99867542\n",
      "   -29.34967723 -621.89482692  -95.78430678 -284.0482994   323.84053769]], shape=(1, 10), dtype=float64)\n",
      "[305.56632505]\n"
     ]
    },
    {
     "data": {
      "image/png": "[encoded data removed]",
      "text/plain": [
       "<Figure size 288x288 with 1 Axes>"
      ]
     },
     "metadata": {},
     "output_type": "display_data"
    },
    {
     "name": "stdout",
     "output_type": "stream",
     "text": [
      "tf.Tensor(\n",
      "[[-1151.08170367 -1141.68563433  -869.76079915  -281.79904241\n",
      "   -398.14352587  -346.63667119 -1712.70789997  -418.69937043\n",
      "   -815.52555347  1094.47365447]], shape=(1, 10), dtype=float64)\n",
      "[1061.93715301]\n"
     ]
    },
    {
     "data": {
      "image/png": "[encoded data removed]",
      "text/plain": [
       "<Figure size 288x288 with 1 Axes>"
      ]
     },
     "metadata": {},
     "output_type": "display_data"
    },
    {
     "name": "stdout",
     "output_type": "stream",
     "text": [
      "tf.Tensor(\n",
      "[[-2147.31722092 -1863.74183324 -1688.45133371  -745.44898486\n",
      "   -711.4460641   -631.04602978 -3283.81561354  -454.78619638\n",
      "  -1775.06652585  1925.37811604]], shape=(1, 10), dtype=float64)\n",
      "[1864.11706623]\n"
     ]
    },
    {
     "data": {
      "image/png": "[encoded data removed]",
      "text/plain": [
       "<Figure size 288x288 with 1 Axes>"
      ]
     },
     "metadata": {},
     "output_type": "display_data"
    },
    {
     "name": "stdout",
     "output_type": "stream",
     "text": [
      "tf.Tensor(\n",
      "[[-3145.53984957 -2515.58573614 -2539.72576588 -1203.41091648\n",
      "  -1026.75509488  -818.45342878 -4831.94298804  -528.35145319\n",
      "  -2763.75290193  2714.53557599]], shape=(1, 10), dtype=float64)\n",
      "[2609.05528303]\n"
     ]
    },
    {
     "data": {
      "image/png": "[encoded data removed]",
      "text/plain": [
       "<Figure size 288x288 with 1 Axes>"
      ]
     },
     "metadata": {},
     "output_type": "display_data"
    }
   ],
   "source": [
    "def plot_image(tensor): \n",
    "    pixels = am_input.numpy().reshape((28, 28))\n",
    "    plt.figure(figsize=(4, 4))\n",
    "    plt.imshow(pixels, cmap='gray')\n",
    "    plt.show()\n",
    "    plt.close()\n",
    "\n",
    "def activation_maximization_loss(predictions, target, inp): \n",
    "    print(predictions)\n",
    "    return tf.reduce_sum(tf.math.multiply(predictions, target)) - lamb * tf.reduce_mean(tf.cast(tf.square(tf.norm(inp)), dtype='double'))\n",
    "\n",
    "    \n",
    "am_input = tf.Variable(tf.random.normal((1, 784)), trainable=True)\n",
    "target = tf.constant([[0, 0, 0, 0, 0, 0, 0, 0, 0, 1]], dtype='double')\n",
    "learning_rate = tf.constant([1.0])\n",
    "lamb = tf.constant([0.01], dtype='double')\n",
    "\n",
    "iterations = 5\n",
    "k = len(model.layers) - 1\n",
    "for i in range(iterations):\n",
    "    with tf.GradientTape() as tape:\n",
    "        predictions = feed_through_k_layer(model, am_input, k)\n",
    "        loss = activation_maximization_loss(predictions, target, am_input)\n",
    "    print(loss.numpy())\n",
    "    am_gradient = tape.gradient(loss, am_input) \n",
    "    #increase function so add gradient, may need to add learning rate\n",
    "    am_input.assign_add(learning_rate * am_gradient)\n",
    "    plot_image(am_input)"
   ]
  },
  {
   "cell_type": "code",
   "execution_count": 49,
   "metadata": {},
   "outputs": [
    {
     "data": {
      "text/plain": [
       "0.1"
      ]
     },
     "execution_count": 49,
     "metadata": {},
     "output_type": "execute_result"
    }
   ],
   "source": [
    "test_loss(model(am_input), tf.constant([5])).numpy()"
   ]
  },
  {
   "cell_type": "code",
   "execution_count": 134,
   "metadata": {},
   "outputs": [
    {
     "data": {
      "text/plain": [
       "2.25"
      ]
     },
     "execution_count": 134,
     "metadata": {},
     "output_type": "execute_result"
    }
   ],
   "source": [
    "tf.square(tf.norm(tf.constant([[1, 0.5], [0, 1]]))).numpy()"
   ]
  },
  {
   "cell_type": "markdown",
   "metadata": {},
   "source": [
    "## Linear Model"
   ]
  },
  {
   "cell_type": "code",
   "execution_count": 121,
   "metadata": {},
   "outputs": [
    {
     "data": {
      "image/png": "[encoded data removed]",
      "text/plain": [
       "<Figure size 432x288 with 1 Axes>"
      ]
     },
     "metadata": {},
     "output_type": "display_data"
    },
    {
     "name": "stdout",
     "output_type": "stream",
     "text": [
      "Current loss: 9.750268\n"
     ]
    }
   ],
   "source": [
    "class Models(object):\n",
    "    def __init__(self):\n",
    "        # Initialize the weights to `5.0` and the bias to `0.0`\n",
    "        # In practice, these should be initialized to random values (for example, with `tf.random.normal`)\n",
    "        self.W = tf.Variable(5.0)\n",
    "        self.b = tf.Variable(0.0)\n",
    "\n",
    "    def __call__(self, x):\n",
    "        return self.W * x + self.b\n",
    "\n",
    "def loss(predicted_y, target_y):\n",
    "    return tf.reduce_mean(tf.square(predicted_y - target_y))\n",
    "m = Models()\n",
    "\n",
    "TRUE_W = 3.0\n",
    "TRUE_b = 2.0\n",
    "NUM_EXAMPLES = 1000\n",
    "\n",
    "inputs  = tf.random.normal(shape=[NUM_EXAMPLES])\n",
    "noise   = tf.random.normal(shape=[NUM_EXAMPLES])\n",
    "outputs = inputs * TRUE_W + TRUE_b + noise\n",
    "import matplotlib.pyplot as plt\n",
    "\n",
    "plt.scatter(inputs, outputs, c='b')\n",
    "plt.scatter(inputs, m(inputs), c='r')\n",
    "plt.show()\n",
    "\n",
    "print('Current loss: %1.6f' % loss(m(inputs), outputs).numpy())"
   ]
  },
  {
   "cell_type": "code",
   "execution_count": 125,
   "metadata": {},
   "outputs": [],
   "source": [
    "def train(model, inputs, outputs, learning_rate):\n",
    "    with tf.GradientTape() as t:\n",
    "        current_loss = loss(m(inputs), outputs)\n",
    "    dW, db, di = t.gradient(current_loss, [model.W, model.b, inputs])\n",
    "    print(di)\n",
    "    m.W.assign_sub(learning_rate * dW)\n",
    "    m.b.assign_sub(learning_rate * db)"
   ]
  },
  {
   "cell_type": "code",
   "execution_count": 126,
   "metadata": {},
   "outputs": [
    {
     "name": "stdout",
     "output_type": "stream",
     "text": [
      "None\n",
      "Epoch  0: W=5.00 b=0.00, loss=9.75027\n",
      "None\n",
      "Epoch  1: W=4.56 b=0.43, loss=6.40089\n",
      "None\n",
      "Epoch  2: W=4.22 b=0.77, loss=4.32749\n",
      "None\n",
      "Epoch  3: W=3.95 b=1.03, loss=3.04396\n",
      "None\n",
      "Epoch  4: W=3.74 b=1.24, loss=2.24937\n",
      "None\n",
      "Epoch  5: W=3.57 b=1.41, loss=1.75746\n",
      "None\n",
      "Epoch  6: W=3.44 b=1.54, loss=1.45292\n",
      "None\n",
      "Epoch  7: W=3.34 b=1.64, loss=1.26438\n",
      "None\n",
      "Epoch  8: W=3.26 b=1.73, loss=1.14765\n",
      "None\n",
      "Epoch  9: W=3.20 b=1.79, loss=1.07538\n"
     ]
    },
    {
     "data": {
      "image/png": "[encoded data removed]",
      "text/plain": [
       "<Figure size 432x288 with 1 Axes>"
      ]
     },
     "metadata": {},
     "output_type": "display_data"
    }
   ],
   "source": [
    "m = Models()\n",
    "Ws, bs = [], []\n",
    "epochs = range(10)\n",
    "for epoch in epochs:\n",
    "    Ws.append(m.W.numpy())\n",
    "    bs.append(m.b.numpy())\n",
    "    current_loss = loss(m(inputs), outputs)\n",
    "\n",
    "    train(m, inputs, outputs, learning_rate=0.1)\n",
    "    print('Epoch %2d: W=%1.2f b=%1.2f, loss=%2.5f' %\n",
    "        (epoch, Ws[-1], bs[-1], current_loss))\n",
    "\n",
    "# Let's plot it all\n",
    "plt.plot(epochs, Ws, 'r',\n",
    "         epochs, bs, 'b')\n",
    "plt.plot([TRUE_W] * len(epochs), 'r--',\n",
    "         [TRUE_b] * len(epochs), 'b--')\n",
    "plt.legend(['W', 'b', 'True W', 'True b'])\n",
    "plt.show()"
   ]
  },
  {
   "cell_type": "code",
   "execution_count": null,
   "metadata": {},
   "outputs": [],
   "source": []
  }
 ],
 "metadata": {
  "kernelspec": {
   "display_name": "Python 3",
   "language": "python",
   "name": "python3"
  },
  "language_info": {
   "codemirror_mode": {
    "name": "ipython",
    "version": 3
   },
   "file_extension": ".py",
   "mimetype": "text/x-python",
   "name": "python",
   "nbconvert_exporter": "python",
   "pygments_lexer": "ipython3",
   "version": "3.6.8"
  }
 },
 "nbformat": 4,
 "nbformat_minor": 2
}
